{
 "cells": [
  {
   "cell_type": "markdown",
   "metadata": {},
   "source": [
    "# Neural Networks from Scratch - P.1 Intro and Neuron Code\n",
    "\n",
    " A simple neural network with 3 inputs.\n",
    "having 3 inputs basically means it should have 3 weights \n",
    "it was given a bias of 3 because each neuron has its unique connection to the previous neuron\n",
    "\n",
    "to get the output it was calculated below."
   ]
  },
  {
   "cell_type": "code",
   "execution_count": 1,
   "metadata": {},
   "outputs": [
    {
     "name": "stdout",
     "output_type": "stream",
     "text": [
      "35.7\n"
     ]
    }
   ],
   "source": [
    "inputs= [1.2,5.1,2.1] \n",
    "weights=[3.1,2.1,8.7]\n",
    "bias = 3\n",
    "\n",
    "\n",
    "outputs=inputs[0]*weights[0] +  inputs[1]*weights[1] + inputs[2]*weights[2] + bias      \n",
    "\n",
    "print(outputs)"
   ]
  },
  {
   "cell_type": "markdown",
   "metadata": {},
   "source": []
  }
 ],
 "metadata": {
  "kernelspec": {
   "display_name": "ml",
   "language": "python",
   "name": "python3"
  },
  "language_info": {
   "codemirror_mode": {
    "name": "ipython",
    "version": 3
   },
   "file_extension": ".py",
   "mimetype": "text/x-python",
   "name": "python",
   "nbconvert_exporter": "python",
   "pygments_lexer": "ipython3",
   "version": "3.11.9"
  }
 },
 "nbformat": 4,
 "nbformat_minor": 2
}
